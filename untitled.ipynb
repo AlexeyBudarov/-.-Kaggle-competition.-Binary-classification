{
  "nbformat": 4,
  "nbformat_minor": 0,
  "metadata": {
    "colab": {
      "provenance": [],
      "authorship_tag": "ABX9TyOPXR5D94YXEBtTYApFSORB",
      "include_colab_link": true
    },
    "kernelspec": {
      "name": "python3",
      "display_name": "Python 3"
    },
    "language_info": {
      "name": "python"
    }
  },
  "cells": [
    {
      "cell_type": "markdown",
      "metadata": {
        "id": "view-in-github",
        "colab_type": "text"
      },
      "source": [
        "<a href=\"https://colab.research.google.com/github/AlexeyBudarov/Predicting_user_churn.-Kaggle_competition.-Binary_classification/blob/main/untitled.ipynb\" target=\"_parent\"><img src=\"https://colab.research.google.com/assets/colab-badge.svg\" alt=\"Open In Colab\"/></a>"
      ]
    },
    {
      "cell_type": "markdown",
      "source": [
        "# Загрузка данных и обработка ошибок\n",
        "\n"
      ],
      "metadata": {
        "id": "hCerwRGNkuWw"
      }
    },
    {
      "cell_type": "code",
      "execution_count": null,
      "metadata": {
        "id": "xZs4JFWZkqp2"
      },
      "outputs": [],
      "source": [
        "import pandas as pd\n",
        "import numpy as np\n",
        "from matplotlib import pyplot as plt\n",
        "from sklearn.metrics import roc_auc_score\n",
        "import seaborn as sns"
      ]
    },
    {
      "cell_type": "code",
      "source": [],
      "metadata": {
        "id": "SNVd6To1lNqa"
      },
      "execution_count": null,
      "outputs": []
    },
    {
      "cell_type": "code",
      "source": [
        "df = pd.read_csv('./train.csv')\n",
        "\n",
        "num_cols = [\n",
        "    'ClientPeriod',\n",
        "    'MonthlySpending',\n",
        "    'TotalSpent']\n",
        "\n",
        "cat_cols = [\n",
        "   'Sex',#0\n",
        "   'IsSeniorCitizen',#1\n",
        "   'HasPartner',#2\n",
        "   'HasChild',#3\n",
        "   'HasPhoneService',#4\n",
        "   'HasMultiplePhoneNumbers',#5\n",
        "   'HasInternetService',#6\n",
        "   'HasOnlineSecurityService',#7\n",
        "   'HasOnlineBackup',#8\n",
        "    'HasDeviceProtection',#9\n",
        "    'HasTechSupportAccess',#10\n",
        "    'HasOnlineTV',#11\n",
        "    'HasMovieSubscription',#12\n",
        "    'HasContractPhone',#13\n",
        "    'IsBillingPaperless',#14\n",
        "    'PaymentMethod']#15\n",
        "\n",
        "feature_cols = num_cols + cat_cols\n",
        "target_col = 'Churn'\n",
        "\n"
      ],
      "metadata": {
        "id": "mEMv5_pwFIw8"
      },
      "execution_count": null,
      "outputs": []
    },
    {
      "cell_type": "code",
      "source": [
        "def Preproces(data, error_col):\n",
        "\n",
        "  def TestNumericData(data):\n",
        "    try:\n",
        "      data[error_col].astype('float64')\n",
        "    except:\n",
        "      print('Error')\n",
        "\n",
        "  for i in range(len(data[error_col])):\n",
        "    if data[error_col][i] == ' ' or data[error_col][i] == '':\n",
        "      data[error_col][i] = '0'\n",
        "  data[error_col] = data[error_col].astype('float64')\n",
        "  return data"
      ],
      "metadata": {
        "id": "UaUX89Nc1VhH"
      },
      "execution_count": null,
      "outputs": []
    },
    {
      "cell_type": "markdown",
      "source": [
        "Удаление признаков"
      ],
      "metadata": {
        "id": "eF0zD32SJOT6"
      }
    },
    {
      "cell_type": "code",
      "source": [
        "def Del_columns(data, names, cols, ind):\n",
        "  data_new = data.drop(names, axis = 1)\n",
        "  cat_cols_new = np.delete(cols, ind)\n",
        "  return data_new, cat_cols_new"
      ],
      "metadata": {
        "id": "DX9u8r26JNZQ"
      },
      "execution_count": null,
      "outputs": []
    },
    {
      "cell_type": "markdown",
      "source": [
        "Данные"
      ],
      "metadata": {
        "id": "3thDQdHvP4UA"
      }
    },
    {
      "cell_type": "code",
      "source": [
        "data = Preproces(df, 'TotalSpent')\n",
        "data_new, cat_cols_new = Del_columns(data, ['Sex','HasChild','HasPartner','HasPhoneService','IsBillingPaperless','IsSeniorCitizen' ], cat_cols, [0,3,2,4,14,1])\n"
      ],
      "metadata": {
        "id": "hOs3h45zP3-5"
      },
      "execution_count": null,
      "outputs": []
    },
    {
      "cell_type": "markdown",
      "source": [
        "Доп. фичи"
      ],
      "metadata": {
        "id": "iTAs37xrQHco"
      }
    },
    {
      "cell_type": "code",
      "source": [
        "data_new['SmallSpend'] = data_new['TotalSpent'] <= 1000\n",
        "cat_cols_new = np.append(cat_cols_new, 'SmallSpend')\n",
        "data_new.info()\n",
        "print(cat_cols_new)"
      ],
      "metadata": {
        "id": "-WQ3C61UQGqX"
      },
      "execution_count": null,
      "outputs": []
    },
    {
      "cell_type": "code",
      "source": [
        "test_col = pd.DataFrame([[5,2], [5,1]], columns = ['values1', 'values2'])\n",
        "test_col['NewFeature'] = test_col[\"values1\"]*test_col['values2']\n",
        "test_col.head"
      ],
      "metadata": {
        "colab": {
          "base_uri": "https://localhost:8080/"
        },
        "id": "6iEcLvsqkats",
        "outputId": "f81f1726-07e4-45c0-d2ee-e64b148b8e0c"
      },
      "execution_count": null,
      "outputs": [
        {
          "output_type": "execute_result",
          "data": {
            "text/plain": [
              "<bound method NDFrame.head of    values1  values2  NewFeature\n",
              "0        5        2          10\n",
              "1        5        1           5>"
            ]
          },
          "metadata": {},
          "execution_count": 49
        }
      ]
    },
    {
      "cell_type": "code",
      "source": [
        "def Mearge_features(data, cols):\n",
        "  data['NewFeature'] = data[cols[0]]*data[cols[1]]\n",
        "  data\n",
        "  return data"
      ],
      "metadata": {
        "id": "-hh-lRcwkMdS"
      },
      "execution_count": null,
      "outputs": []
    },
    {
      "cell_type": "markdown",
      "source": [
        "Kagle_data"
      ],
      "metadata": {
        "id": "i7QTVU33QV6m"
      }
    },
    {
      "cell_type": "code",
      "source": [],
      "metadata": {
        "id": "mUayBrIRQYkV"
      },
      "execution_count": null,
      "outputs": []
    },
    {
      "cell_type": "markdown",
      "source": [
        "# Анализ данных"
      ],
      "metadata": {
        "id": "jQl1XMTM227u"
      }
    },
    {
      "cell_type": "code",
      "source": [
        "import warnings\n",
        "warnings.simplefilter('ignore')\n",
        "%config InlineBackend.figure_format = 'svg'\n",
        "from pylab import rcParams\n",
        "rcParams['figure.figsize'] = 8, 5\n",
        "import pandas as pd"
      ],
      "metadata": {
        "id": "K9o0CrUCZHpa"
      },
      "execution_count": null,
      "outputs": []
    },
    {
      "cell_type": "code",
      "source": [
        "# data = Preproces(df, 'TotalSpent')\n",
        "X_data = Split_data(data, num_cols, cat_cols, flag = True)\n",
        "X_data.info()\n",
        "# data_new, cat_cols_new = Del_columns(data, ['IsSeniorCitizen', 'HasPhoneService'], cat_cols, [1,4])"
      ],
      "metadata": {
        "id": "3Wvd71cnZ8T-"
      },
      "execution_count": null,
      "outputs": []
    },
    {
      "cell_type": "code",
      "source": [],
      "metadata": {
        "id": "y6Mt8k5bfhx_"
      },
      "execution_count": null,
      "outputs": []
    },
    {
      "cell_type": "code",
      "source": [
        "def ValueCounts(data, feature_cols):\n",
        "  for col in feature_cols:\n",
        "    print(f'{col} DISTRIBUTION')\n",
        "    print(data[col].value_counts())\n",
        "    print()"
      ],
      "metadata": {
        "id": "2jnDc3Xu24v_"
      },
      "execution_count": null,
      "outputs": []
    },
    {
      "cell_type": "code",
      "source": [
        "X_data = Split_data(data, num_cols, cat_cols, flag = True)\n",
        "X_data.info()"
      ],
      "metadata": {
        "id": "gHJeJtFURXpV"
      },
      "execution_count": null,
      "outputs": []
    },
    {
      "cell_type": "code",
      "source": [
        "data.info()"
      ],
      "metadata": {
        "id": "xD0pZTV6yK6V"
      },
      "execution_count": null,
      "outputs": []
    },
    {
      "cell_type": "code",
      "source": [
        "# ValueCounts(data, cat_cols)\n",
        "X_data.corr().style.background_gradient(cmap='coolwarm').set_precision(2)"
      ],
      "metadata": {
        "id": "ys6CAQn8cSI5"
      },
      "execution_count": null,
      "outputs": []
    },
    {
      "cell_type": "code",
      "source": [
        "X_data['Churn'] = data['Churn']"
      ],
      "metadata": {
        "id": "HGUMytxlhojQ"
      },
      "execution_count": null,
      "outputs": []
    },
    {
      "cell_type": "code",
      "source": [
        "ValueCounts(X_data, X_data.columns)"
      ],
      "metadata": {
        "id": "eRHaotEdjhYZ"
      },
      "execution_count": null,
      "outputs": []
    },
    {
      "cell_type": "code",
      "source": [
        "sns.distplot(data_new.TotalSpent)"
      ],
      "metadata": {
        "id": "zNVcjqvc4ZdZ"
      },
      "execution_count": null,
      "outputs": []
    },
    {
      "cell_type": "code",
      "source": [
        "paymethod_df = X_data[[x for x in X_data.columns if 'PaymentMethod' in x] + ['MonthlySpending']]\n",
        "paymethod_df.groupby('MonthlySpending').sum().plot()"
      ],
      "metadata": {
        "id": "HFmKOIpXZF33"
      },
      "execution_count": null,
      "outputs": []
    },
    {
      "cell_type": "code",
      "source": [
        "paymethod_df = X_data[[x for x in X_data.columns if 'PaymentMethod' in x] + ['ClientPeriod']]\n",
        "paymethod_df.groupby('ClientPeriod').sum().plot()"
      ],
      "metadata": {
        "id": "KA2FlJTFir2P"
      },
      "execution_count": null,
      "outputs": []
    },
    {
      "cell_type": "markdown",
      "source": [
        "# Обучение, пробую простые модели"
      ],
      "metadata": {
        "id": "1jNuqYlDBHfE"
      }
    },
    {
      "cell_type": "code",
      "source": [
        "from sklearn.linear_model import LogisticRegression, LogisticRegressionCV, LinearRegression\n",
        "from sklearn.model_selection import train_test_split, GridSearchCV\n",
        "from sklearn.preprocessing import StandardScaler, RobustScaler, LabelEncoder, OneHotEncoder, MinMaxScaler\n",
        "from sklearn.pipeline import make_pipeline\n",
        "from sklearn.neighbors import KNeighborsRegressor, KNeighborsClassifier\n",
        "from sklearn.tree import DecisionTreeRegressor, DecisionTreeClassifier\n",
        "from sklearn.ensemble import RandomForestRegressor, RandomForestClassifier, StackingClassifier\n",
        "from tqdm.notebook import tqdm\n",
        "from sklearn.svm import LinearSVC"
      ],
      "metadata": {
        "id": "VK3QZS7ZBLk9"
      },
      "execution_count": null,
      "outputs": []
    },
    {
      "cell_type": "markdown",
      "source": [
        "Разбиваю на test и train, One-Hot-Encoding, и масштабирование признаков -- ??\n"
      ],
      "metadata": {
        "id": "AQyUJE23BcGM"
      }
    },
    {
      "cell_type": "code",
      "source": [
        "def Split_data(data, num_cols, cat_cols, flag = False):\n",
        "  num_features = data[num_cols]\n",
        "  cat_features = data[cat_cols]\n",
        "\n",
        "  dummy_features = pd.get_dummies(cat_features)\n",
        "  X = pd.concat([num_features, dummy_features], axis = 1)\n",
        "  if flag == True:\n",
        "    return X\n",
        "  X_train, X_test, y_train, y_test = train_test_split(X, data[target_col], test_size = 0.2, random_state=0)\n",
        "  return X_train, X_test, y_train, y_test"
      ],
      "metadata": {
        "id": "VJtTffz-BPId"
      },
      "execution_count": null,
      "outputs": []
    },
    {
      "cell_type": "markdown",
      "source": [
        "Здесь будет поиск гиперпараметров"
      ],
      "metadata": {
        "id": "6Oe96D8XHSHy"
      }
    },
    {
      "cell_type": "code",
      "source": [
        "def Search_params(X, y, model, parameters_grid):\n",
        "\n",
        "  CV_model = GridSearchCV(estimator = model, param_grid = parameters_grid, cv= 5)\n",
        "  CV_model.fit(X, y)\n",
        "  return print(CV_model.best_params_)"
      ],
      "metadata": {
        "id": "F1mGFSwzHRf6"
      },
      "execution_count": null,
      "outputs": []
    },
    {
      "cell_type": "markdown",
      "source": [
        "Логистическая регрессия\n"
      ],
      "metadata": {
        "id": "xOy-ygtCBpXk"
      }
    },
    {
      "cell_type": "code",
      "source": [
        "def LogisticRegression_(X_train, X_test, y_train, y_test, Kagle_data, flag = False):\n",
        "  lr = LogisticRegression()\n",
        "  lr.fit(X_train, y_train)\n",
        "  y_pred_lr = lr.predict_proba(X_test)[:,1]\n",
        "  if flag == True:\n",
        "    return lr.predict_proba(Kagle_data)[:,1]\n",
        "  return roc_auc_score(y_test, y_pred_lr)"
      ],
      "metadata": {
        "id": "1N1Zdfu9BnXk"
      },
      "execution_count": null,
      "outputs": []
    },
    {
      "cell_type": "markdown",
      "source": [
        "Старт 0.83787\n",
        "\n",
        "После удаления признаков     0.86707\n",
        "\n"
      ],
      "metadata": {
        "id": "531BVR_8TcFh"
      }
    },
    {
      "cell_type": "markdown",
      "source": [
        "KNN"
      ],
      "metadata": {
        "id": "Vw2mcurSBwIU"
      }
    },
    {
      "cell_type": "code",
      "source": [
        "def KNN_(X_train, X_test, y_train, y_test, Kagle_data, flag = False):\n",
        "  knn = KNeighborsClassifier(n_neighbors = 19, weights = 'uniform', metric = 'euclidean')\n",
        "  knn.fit(X_train, y_train)\n",
        "  y_pred_knn = knn.predict_proba(X_test)[:,1]\n",
        "  if flag == True:\n",
        "    return knn.predict_proba(Kagle_data)[:,1]\n",
        "  return roc_auc_score(y_test, y_pred_knn)"
      ],
      "metadata": {
        "id": "H_7LB1VfBzvc"
      },
      "execution_count": null,
      "outputs": []
    },
    {
      "cell_type": "markdown",
      "source": [
        "Нормирование признаков"
      ],
      "metadata": {
        "id": "WiKWCQQXjZ_o"
      }
    },
    {
      "cell_type": "code",
      "source": [
        "def Norm_feature(X_train, X_test):\n",
        "  scaler = StandardScaler()\n",
        "  X_train_scaled = scaler.fit_transform(X_train)\n",
        "  X_test_scaled = scaler.transform(X_test)\n",
        "  return X_train_scaled, X_test_scaled"
      ],
      "metadata": {
        "id": "qPpIuPvfjZwx"
      },
      "execution_count": null,
      "outputs": []
    },
    {
      "cell_type": "markdown",
      "source": [
        "Решающее дерево"
      ],
      "metadata": {
        "id": "V5GcULKSRhau"
      }
    },
    {
      "cell_type": "code",
      "source": [
        "def JustTree_(X_train, X_test, y_train, y_test, Kagle_data, flag = False):\n",
        "  just_tree = DecisionTreeClassifier(max_depth= 6 )\n",
        "  just_tree.fit(X_train, y_train)\n",
        "  y_pred_tree = just_tree.predict_proba(X_test)[:,1]\n",
        "  if flag == True:\n",
        "    return just_tree.predict_proba(Kagle_data)[:,1]\n",
        "  return roc_auc_score(y_test, y_pred_tree)"
      ],
      "metadata": {
        "id": "cGwozOWdRhMm"
      },
      "execution_count": null,
      "outputs": []
    },
    {
      "cell_type": "markdown",
      "source": [
        "Случайный лес\n"
      ],
      "metadata": {
        "id": "D-OUru1jVbdf"
      }
    },
    {
      "cell_type": "code",
      "source": [
        "def RandomForest_(X_train,X_test, y_train, y_test, Kagle_data, flag = False):\n",
        "  random_forest = RandomForestClassifier(max_depth = 6)\n",
        "  random_forest.fit(X_train, y_train)\n",
        "  y_pred_forest = random_forest.predict_proba(X_test)[:,1]\n",
        "  if flag == True:\n",
        "    return random_forest.predict_proba(Kagle_data)[:,1]\n",
        "  return roc_auc_score(y_test, y_pred_forest)"
      ],
      "metadata": {
        "id": "9JYoAKKbVaGh"
      },
      "execution_count": null,
      "outputs": []
    },
    {
      "cell_type": "markdown",
      "source": [
        "Стекинг"
      ],
      "metadata": {
        "id": "SRzU0384d_Ox"
      }
    },
    {
      "cell_type": "code",
      "source": [
        "from sklearn.model_selection import cross_val_predict"
      ],
      "metadata": {
        "id": "5Y6G9YQYd-qu"
      },
      "execution_count": null,
      "outputs": []
    },
    {
      "cell_type": "code",
      "source": [
        "def complete_meta_feature(model, X_train, X_test, y_train, cv):\n",
        "  try:\n",
        "    train_answers = cross_val_predict(model, X_train, y_train, cv = cv, method = 'predict_proba' )[:,1]\n",
        "    model.fit(X_train, y_train)\n",
        "    return train_answers, model.predict_proba(X_test)[:,1]\n",
        "  except Exception:\n",
        "    train_answers = cross_val_predict(model,X_train,y_train, cv = cv, method = 'predict')[:,1]\n",
        "    model.fit(X_train, y_train)\n",
        "    return train_answers, model.predict(X_test)\n",
        "\n",
        "def get_meta_features(models, X_train, X_test, y_train):\n",
        "  meta_features_train = np.zeros((X_train.shape[0], 0))\n",
        "  meta_features_test = np.zeros((X_test.shape[0], 0))\n",
        "  for model in tqdm(models):\n",
        "    train, test = complete_meta_feature(model, X_train, X_test, y_train, 5)\n",
        "    meta_features_train = np.append(meta_features_train, train.reshape((train.size, 1)), axis = 1)\n",
        "    meta_features_test = np.append(meta_features_test, test.reshape((test.size, 1)), axis = 1)\n",
        "  return meta_features_train, meta_features_test"
      ],
      "metadata": {
        "id": "WAPsNWfSeUPf"
      },
      "execution_count": null,
      "outputs": []
    },
    {
      "cell_type": "code",
      "source": [
        "def Stacking_(stacking_model_, meta_features_train, meta_features_test, y_train, y_test, Kagle_data, flag = False):\n",
        "  stacking_model = stacking_model_\n",
        "  stacking_model.fit(meta_features_train, y_train)\n",
        "  y_train_pred = stacking_model.predict_proba(meta_features_train)[:, 1]\n",
        "  y_test_pred = stacking_model.predict_proba(meta_features_test)[:, 1]\n",
        "  if flag == True:\n",
        "    return stacking_model.predict_proba(Kagle_data)[:, 1]\n",
        "  return roc_auc_score(y_train, y_train_pred), roc_auc_score(y_test, y_test_pred)"
      ],
      "metadata": {
        "id": "p1LLxp_dnUKh"
      },
      "execution_count": null,
      "outputs": []
    },
    {
      "cell_type": "code",
      "source": [
        "def StackingCl(X_train, X_test, y_train, y_test, Models, Kagle_data, flag = False):\n",
        "  models = Models\n",
        "  st = StackingClassifier(estimators = models, final_estimator = LogisticRegression())\n",
        "  st.fit(X_train, y_train)\n",
        "  y_pred = st.predict_proba(X_test)[:,1]\n",
        "  if flag == True:\n",
        "    return st.predict_proba(Kagle_data)[:,1]\n",
        "  return roc_auc_score(y_test, y_pred)\n"
      ],
      "metadata": {
        "id": "bH2p6aShjFtm"
      },
      "execution_count": null,
      "outputs": []
    },
    {
      "cell_type": "markdown",
      "source": [
        "Старт -                                           0.76650\n",
        "\n",
        "После удаления признаков                          0.75417\n",
        "\n",
        "После масштабирования признаков                   0.79008"
      ],
      "metadata": {
        "id": "OkMIux84SU-K"
      }
    },
    {
      "cell_type": "markdown",
      "source": [
        "CatBoost"
      ],
      "metadata": {
        "id": "inBxlLulB5TE"
      }
    },
    {
      "cell_type": "code",
      "source": [
        "!pip install catboost"
      ],
      "metadata": {
        "id": "d2UBa6UxB1hc"
      },
      "execution_count": null,
      "outputs": []
    },
    {
      "cell_type": "code",
      "source": [
        "import catboost\n",
        "def CatBoost_(data, cat_features_index, Kagle_data, flag = False):\n",
        "  data_catboost = data.iloc[:, :-1]\n",
        "  X_boost_train, X_boost_test, y_train, y_test = train_test_split(data_catboost.values, data[target_col].values, train_size = 0.7, random_state = 74)\n",
        "\n",
        "  boosting_model = catboost.CatBoostClassifier(n_estimators = 200, cat_features = cat_features_index)\n",
        "\n",
        "  boosting_model.fit(X_boost_train, y_train)\n",
        "  y_train_predicted = boosting_model.predict_proba(X_boost_train)[:, 1]\n",
        "  y_test_predicted = boosting_model.predict_proba(X_boost_test)[:, 1]\n",
        "  if flag == True:\n",
        "    return boosting_model.predict_proba(Kagle_data)[:, 1]\n",
        "  return roc_auc_score(y_test, y_test_predicted)"
      ],
      "metadata": {
        "id": "k7LsBIIqB-_G"
      },
      "execution_count": null,
      "outputs": []
    },
    {
      "cell_type": "markdown",
      "source": [
        "# Тест моделей"
      ],
      "metadata": {
        "id": "1SxC4G1mT5Cy"
      }
    },
    {
      "cell_type": "code",
      "source": [
        "X_train, X_test, y_train, y_test = Split_data(data_new, num_cols, cat_cols_new)"
      ],
      "metadata": {
        "id": "v7YaTDvWQqDX"
      },
      "execution_count": null,
      "outputs": []
    },
    {
      "cell_type": "code",
      "source": [
        "Kagle_data = pd.read_csv('./test.csv')\n",
        "Kagle_data = Preproces(Kagle_data, 'TotalSpent')\n",
        "#Фича\n",
        "Kagle_data, cat_cols_new = Del_columns(Kagle_data,['Sex','HasChild','HasPartner','HasPhoneService','IsBillingPaperless' ], cat_cols, [0,3,2,4,14])\n",
        "\n",
        "Kagle_data['SmallSpend'] = Kagle_data['TotalSpent'] <= 1000\n",
        "cat_cols_new = np.append(cat_cols_new, 'SmallSpend')\n",
        "\n",
        "Kagle_data = Split_data(Kagle_data, num_cols, cat_cols_new, flag = True)\n",
        "\n",
        "print(cat_cols_new)\n",
        "Kagle_data.info()"
      ],
      "metadata": {
        "id": "ygvaIqN5kyip"
      },
      "execution_count": null,
      "outputs": []
    },
    {
      "cell_type": "markdown",
      "source": [
        "Поиск гиперпараметров"
      ],
      "metadata": {
        "id": "ZC3-Z413kiNn"
      }
    },
    {
      "cell_type": "code",
      "source": [
        "parameters_grid_knn = {'n_neighbors' : np.arange(1,40),\n",
        "                       'metric': ['euclidean', 'minkowski'],\n",
        "                       'weights': ['uniform', 'distance']}\n",
        "parameters_grid_tree = {'max_depth': np.arange(1,20)}\n",
        "parameters_grid_forest = {'max_depth': np.arange(1,10),\n",
        "                          'n_estimators': np.arange(1,100)}\n",
        "parameters_grid_logregr = {'penalty': ['l1', 'l2', 'elasticnet', None],\n",
        "                           }\n",
        "# Search_params(X_train, y_train, KNeighborsClassifier(), parameters_grid_knn)\n",
        "# Search_params(X_train, y_train, DecisionTreeClassifier(), parameters_grid_tree)\n",
        "Search_params(X_train, y_train, RandomForestClassifier(), parameters_grid_forest)\n",
        "# Search_params(X_train, y_train, LogisticRegression(), parameters_grid_logregr)"
      ],
      "metadata": {
        "id": "yt5pPEOUh0Mr"
      },
      "execution_count": null,
      "outputs": []
    },
    {
      "cell_type": "markdown",
      "source": [
        "Нормирование признаков"
      ],
      "metadata": {
        "id": "U0FO-puikx2A"
      }
    },
    {
      "cell_type": "code",
      "source": [
        "X_train_scaled, X_test_scaled = Norm_feature(X_train, X_test)"
      ],
      "metadata": {
        "id": "41cyRtEkk4PA"
      },
      "execution_count": null,
      "outputs": []
    },
    {
      "cell_type": "markdown",
      "source": [
        "Вывод результатов"
      ],
      "metadata": {
        "id": "_4LK_qD5jsOm"
      }
    },
    {
      "cell_type": "code",
      "source": [
        "print('LogisticRegression: ', LogisticRegression_(X_train, X_test, y_train, y_test, Kagle_data, flag = False))\n",
        "print('KNN: ', KNN_(X_train, X_test, y_train, y_test, Kagle_data, flag = False))\n",
        "print('Tree: ', JustTree_(X_train, X_test, y_train, y_test, Kagle_data, flag = False))\n",
        "print('Forest: ', RandomForest_(X_train, X_test, y_train, y_test, Kagle_data, flag = False))"
      ],
      "metadata": {
        "id": "XkubeBUmT-lK"
      },
      "execution_count": null,
      "outputs": []
    },
    {
      "cell_type": "code",
      "source": [
        "models = [('tree', DecisionTreeClassifier(max_depth = 5)),\n",
        "          ('log', LogisticRegression()),\n",
        "          ('forest1', RandomForestClassifier(max_depth=7, n_estimators=50, n_jobs=-1)),\n",
        "          ('forest2',RandomForestClassifier(max_depth=6, n_estimators=71, n_jobs=-1 )),\n",
        "          ('log2', LogisticRegression()),\n",
        "          ('KNN', KNeighborsClassifier(n_neighbors = 27, weights = 'uniform', metric = 'euclidean'))\n",
        "          ]\n",
        "          # ('KNN', KNeighborsClassifier(n_neighbors = 20, weights = 'uniform', metric = 'euclidean'))"
      ],
      "metadata": {
        "id": "gkcYxP2bmW6I"
      },
      "execution_count": null,
      "outputs": []
    },
    {
      "cell_type": "code",
      "source": [
        "models = []\n",
        "models.append(KNeighborsClassifier(n_neighbors = 18, weights = 'uniform', metric = 'euclidean'))\n",
        "models.append(LogisticRegression())\n",
        "models.append(RandomForestClassifier(max_depth=4, n_estimators=50, n_jobs=-1))\n",
        "models.append(RandomForestClassifier(max_depth=8, n_estimators=50, n_jobs=-1))\n",
        "models.append(DecisionTreeClassifier(max_depth=6))\n",
        "meta_features_train, meta_features_test = get_meta_features(models, X_train_scaled, X_test_scaled, y_train)\n"
      ],
      "metadata": {
        "id": "mWweTC0lUq7Q"
      },
      "execution_count": null,
      "outputs": []
    },
    {
      "cell_type": "code",
      "source": [
        "print(StackingCl(X_train, X_test, y_train, y_test, models, Kagle_data, flag = False))"
      ],
      "metadata": {
        "id": "e19aFaaBlX44"
      },
      "execution_count": null,
      "outputs": []
    },
    {
      "cell_type": "code",
      "source": [
        "result_train, result_test = Stacking(KNeighborsClassifier(n_neighbors = 18, weights = 'uniform', metric = 'euclidean'),\n",
        "                                     meta_features_train, meta_features_test, y_train, y_test, Kagle_data, flag = False)\n",
        "print(result_train, '\\n', result_test)"
      ],
      "metadata": {
        "id": "Wmy6l8so0Uty"
      },
      "execution_count": null,
      "outputs": []
    },
    {
      "cell_type": "code",
      "source": [
        "print('CatBoost: ', CatBoost_(data_new, np.arange(3,14), Kagle_data, flag = False))"
      ],
      "metadata": {
        "id": "zjc_fdiMZwzQ"
      },
      "execution_count": null,
      "outputs": []
    },
    {
      "cell_type": "markdown",
      "source": [
        "# Загрузка на Kagle"
      ],
      "metadata": {
        "id": "rp9V-93unxsx"
      }
    },
    {
      "cell_type": "markdown",
      "source": [],
      "metadata": {
        "id": "QbxR8jRcQkkM"
      }
    },
    {
      "cell_type": "code",
      "source": [
        "submission = pd.read_csv('./submission (1).csv')\n",
        "submission['Churn'] = StackingCl(X_train, X_test, y_train, y_test, models, Kagle_data, flag = True)\n",
        "submission.to_csv('./my_submission_Stacking_PreFinal.csv',index = False)"
      ],
      "metadata": {
        "id": "f6uV9nmooT_q"
      },
      "execution_count": null,
      "outputs": []
    }
  ]
}